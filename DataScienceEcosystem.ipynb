{
 "cells": [
  {
   "cell_type": "markdown",
   "id": "4d478d21-473a-4b6d-86ff-2585b0d905c6",
   "metadata": {},
   "source": [
    "# Data Science Tools and Ecosystem"
   ]
  },
  {
   "cell_type": "markdown",
   "id": "79b1a48d-4ecd-48b1-af58-3a95c060d698",
   "metadata": {},
   "source": [
    "## In this notebook, Data Science Tools and Ecosystem are summarized."
   ]
  },
  {
   "cell_type": "markdown",
   "id": "ef51b98e-c700-4400-8b88-49d3064e26a5",
   "metadata": {},
   "source": [
    "# **Objectives**\n",
    "- list popular languages\n",
    "- list commonly used libraries\n",
    "- evaluate arithmetic expression in Python \n"
   ]
  },
  {
   "cell_type": "markdown",
   "id": "b1edd49b-e2f8-472e-ac98-358a71441625",
   "metadata": {},
   "source": [
    "### Some of the popular languages that Data Scientists use are:\n",
    "1. Python\n",
    "2. Java\n",
    "3. Julia\n",
    "4. R"
   ]
  },
  {
   "cell_type": "markdown",
   "id": "eaef1841-6bdf-4296-a9c4-d96a4529d908",
   "metadata": {},
   "source": [
    "### Some of the commonly used libraries used by Data Scientists include:\n",
    "1. Scipy\n",
    "2. Numpy\n",
    "3. Matplotlib\n",
    "4. Pandas "
   ]
  },
  {
   "cell_type": "markdown",
   "id": "d4efce42-513d-4116-bde6-661edca44be7",
   "metadata": {},
   "source": [
    "|Data Science Tools |\n",
    "|------------------ |\n",
    "|RStudio            |\n",
    "|Apache Spark       |\n",
    "|Apache Hadoop      |"
   ]
  },
  {
   "cell_type": "markdown",
   "id": "b0a4cb22-25db-435f-a68b-29280317a351",
   "metadata": {},
   "source": [
    "### Below are a few examples of evaluating arithmetic expressions in Python\n",
    "Python allows you to evaluate arithmetic expressions through various built-in functions and modules. Expressions can include a combination of numbers, variables, and operators, which can be evaluated to return a single numeric value.One common way to evaluate arithmetic expressions in Python is using the built-in `eval()` function. This function takes a string representation of an expression and evaluates it, returning the result. For example, the expression `\"2 + 3 * 4\"` can be evaluated using `eval()` as follows: \n",
    "```python\n",
    "result = eval(\"2 + 3 * 4\")\n",
    "(\"2 + 3 * 4\")"
   ]
  },
  {
   "cell_type": "code",
   "execution_count": 3,
   "id": "c91c1b92-6951-4caf-b258-676904930f52",
   "metadata": {},
   "outputs": [
    {
     "data": {
      "text/plain": [
       "17"
      ]
     },
     "execution_count": 3,
     "metadata": {},
     "output_type": "execute_result"
    }
   ],
   "source": [
    "(3*4)+5\n",
    "#This a simple arithmetic expression to mutiply then add integers"
   ]
  },
  {
   "cell_type": "code",
   "execution_count": 4,
   "id": "311fe452-403b-4873-af7c-e9efacd0a2b2",
   "metadata": {},
   "outputs": [
    {
     "data": {
      "text/plain": [
       "3.3333333333333335"
      ]
     },
     "execution_count": 4,
     "metadata": {},
     "output_type": "execute_result"
    }
   ],
   "source": [
    "(200/60)\n",
    "#This will convert 200 minutes to hours by diving by 60"
   ]
  },
  {
   "cell_type": "markdown",
   "id": "dfc307e7-d5ec-4077-b12c-87ca8a14c6a8",
   "metadata": {},
   "source": [
    "## Author \n",
    "Farid Ahmed"
   ]
  },
  {
   "cell_type": "markdown",
   "id": "256abbfb-dea1-40b6-800c-1b8fab33b521",
   "metadata": {},
   "source": []
  }
 ],
 "metadata": {
  "kernelspec": {
   "display_name": "Python 3 (ipykernel)",
   "language": "python",
   "name": "python3"
  },
  "language_info": {
   "codemirror_mode": {
    "name": "ipython",
    "version": 3
   },
   "file_extension": ".py",
   "mimetype": "text/x-python",
   "name": "python",
   "nbconvert_exporter": "python",
   "pygments_lexer": "ipython3",
   "version": "3.12.4"
  }
 },
 "nbformat": 4,
 "nbformat_minor": 5
}
